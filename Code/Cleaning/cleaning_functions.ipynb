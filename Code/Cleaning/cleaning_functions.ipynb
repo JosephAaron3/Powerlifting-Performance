{
 "cells": [
  {
   "cell_type": "code",
   "execution_count": 36,
   "metadata": {},
   "outputs": [],
   "source": [
    "#Imports\n",
    "import pandas as pd\n",
    "import numpy as np\n",
    "import matplotlib.pyplot as plt\n",
    "import seaborn as sns\n",
    "pd.options.display.max_rows = 999"
   ]
  },
  {
   "cell_type": "code",
   "execution_count": 3,
   "metadata": {},
   "outputs": [],
   "source": [
    "#Read data\n",
    "df = pd.read_csv(\"../../Data/Tidy_Full.csv\", index_col = 0)"
   ]
  },
  {
   "cell_type": "code",
   "execution_count": 4,
   "metadata": {},
   "outputs": [
    {
     "data": {
      "text/html": [
       "<div>\n",
       "<style scoped>\n",
       "    .dataframe tbody tr th:only-of-type {\n",
       "        vertical-align: middle;\n",
       "    }\n",
       "\n",
       "    .dataframe tbody tr th {\n",
       "        vertical-align: top;\n",
       "    }\n",
       "\n",
       "    .dataframe thead th {\n",
       "        text-align: right;\n",
       "    }\n",
       "</style>\n",
       "<table border=\"1\" class=\"dataframe\">\n",
       "  <thead>\n",
       "    <tr style=\"text-align: right;\">\n",
       "      <th></th>\n",
       "      <th>CompID</th>\n",
       "      <th>Name</th>\n",
       "      <th>Sex</th>\n",
       "      <th>Class</th>\n",
       "      <th>Division</th>\n",
       "      <th>BestBP</th>\n",
       "      <th>Total</th>\n",
       "      <th>Place</th>\n",
       "      <th>BestSQ</th>\n",
       "      <th>BestDL</th>\n",
       "      <th>...</th>\n",
       "      <th>BP2</th>\n",
       "      <th>BP3</th>\n",
       "      <th>Wilks</th>\n",
       "      <th>SQ1</th>\n",
       "      <th>SQ2</th>\n",
       "      <th>SQ3</th>\n",
       "      <th>DL1</th>\n",
       "      <th>DL2</th>\n",
       "      <th>DL3</th>\n",
       "      <th>DOB</th>\n",
       "    </tr>\n",
       "    <tr>\n",
       "      <th>Index</th>\n",
       "      <th></th>\n",
       "      <th></th>\n",
       "      <th></th>\n",
       "      <th></th>\n",
       "      <th></th>\n",
       "      <th></th>\n",
       "      <th></th>\n",
       "      <th></th>\n",
       "      <th></th>\n",
       "      <th></th>\n",
       "      <th></th>\n",
       "      <th></th>\n",
       "      <th></th>\n",
       "      <th></th>\n",
       "      <th></th>\n",
       "      <th></th>\n",
       "      <th></th>\n",
       "      <th></th>\n",
       "      <th></th>\n",
       "      <th></th>\n",
       "      <th></th>\n",
       "    </tr>\n",
       "  </thead>\n",
       "  <tbody>\n",
       "    <tr>\n",
       "      <th>0</th>\n",
       "      <td>1</td>\n",
       "      <td>Barbara Hamilton</td>\n",
       "      <td>F</td>\n",
       "      <td>56</td>\n",
       "      <td>O/50</td>\n",
       "      <td>42.5/43</td>\n",
       "      <td>42.5</td>\n",
       "      <td>1</td>\n",
       "      <td>NaN</td>\n",
       "      <td>NaN</td>\n",
       "      <td>...</td>\n",
       "      <td>NaN</td>\n",
       "      <td>NaN</td>\n",
       "      <td>NaN</td>\n",
       "      <td>NaN</td>\n",
       "      <td>NaN</td>\n",
       "      <td>NaN</td>\n",
       "      <td>NaN</td>\n",
       "      <td>NaN</td>\n",
       "      <td>NaN</td>\n",
       "      <td>NaN</td>\n",
       "    </tr>\n",
       "    <tr>\n",
       "      <th>1</th>\n",
       "      <td>1</td>\n",
       "      <td>Nat Zacharko</td>\n",
       "      <td>F</td>\n",
       "      <td>56</td>\n",
       "      <td>O/40</td>\n",
       "      <td>60</td>\n",
       "      <td>60</td>\n",
       "      <td>1</td>\n",
       "      <td>NaN</td>\n",
       "      <td>NaN</td>\n",
       "      <td>...</td>\n",
       "      <td>NaN</td>\n",
       "      <td>NaN</td>\n",
       "      <td>NaN</td>\n",
       "      <td>NaN</td>\n",
       "      <td>NaN</td>\n",
       "      <td>NaN</td>\n",
       "      <td>NaN</td>\n",
       "      <td>NaN</td>\n",
       "      <td>NaN</td>\n",
       "      <td>NaN</td>\n",
       "    </tr>\n",
       "    <tr>\n",
       "      <th>2</th>\n",
       "      <td>1</td>\n",
       "      <td>Dean Jenkinson</td>\n",
       "      <td>M</td>\n",
       "      <td>67.5</td>\n",
       "      <td>Open</td>\n",
       "      <td>125</td>\n",
       "      <td>125</td>\n",
       "      <td>1</td>\n",
       "      <td>NaN</td>\n",
       "      <td>NaN</td>\n",
       "      <td>...</td>\n",
       "      <td>NaN</td>\n",
       "      <td>NaN</td>\n",
       "      <td>NaN</td>\n",
       "      <td>NaN</td>\n",
       "      <td>NaN</td>\n",
       "      <td>NaN</td>\n",
       "      <td>NaN</td>\n",
       "      <td>NaN</td>\n",
       "      <td>NaN</td>\n",
       "      <td>NaN</td>\n",
       "    </tr>\n",
       "    <tr>\n",
       "      <th>3</th>\n",
       "      <td>1</td>\n",
       "      <td>Aaron McFarlane</td>\n",
       "      <td>M</td>\n",
       "      <td>67.5</td>\n",
       "      <td>Open</td>\n",
       "      <td>105</td>\n",
       "      <td>105</td>\n",
       "      <td>2-Jan</td>\n",
       "      <td>NaN</td>\n",
       "      <td>NaN</td>\n",
       "      <td>...</td>\n",
       "      <td>NaN</td>\n",
       "      <td>NaN</td>\n",
       "      <td>NaN</td>\n",
       "      <td>NaN</td>\n",
       "      <td>NaN</td>\n",
       "      <td>NaN</td>\n",
       "      <td>NaN</td>\n",
       "      <td>NaN</td>\n",
       "      <td>NaN</td>\n",
       "      <td>NaN</td>\n",
       "    </tr>\n",
       "    <tr>\n",
       "      <th>4</th>\n",
       "      <td>1</td>\n",
       "      <td>David Graham</td>\n",
       "      <td>M</td>\n",
       "      <td>67.5</td>\n",
       "      <td>O/60</td>\n",
       "      <td>52.5</td>\n",
       "      <td>52.5</td>\n",
       "      <td>1</td>\n",
       "      <td>NaN</td>\n",
       "      <td>NaN</td>\n",
       "      <td>...</td>\n",
       "      <td>NaN</td>\n",
       "      <td>NaN</td>\n",
       "      <td>NaN</td>\n",
       "      <td>NaN</td>\n",
       "      <td>NaN</td>\n",
       "      <td>NaN</td>\n",
       "      <td>NaN</td>\n",
       "      <td>NaN</td>\n",
       "      <td>NaN</td>\n",
       "      <td>NaN</td>\n",
       "    </tr>\n",
       "  </tbody>\n",
       "</table>\n",
       "<p>5 rows × 22 columns</p>\n",
       "</div>"
      ],
      "text/plain": [
       "       CompID              Name Sex Class Division   BestBP Total  Place  \\\n",
       "Index                                                                      \n",
       "0           1  Barbara Hamilton   F    56     O/50  42.5/43  42.5      1   \n",
       "1           1      Nat Zacharko   F    56     O/40       60    60      1   \n",
       "2           1    Dean Jenkinson   M  67.5     Open      125   125      1   \n",
       "3           1   Aaron McFarlane   M  67.5     Open      105   105  2-Jan   \n",
       "4           1      David Graham   M  67.5     O/60     52.5  52.5      1   \n",
       "\n",
       "      BestSQ BestDL  ...  BP2  BP3 Wilks  SQ1  SQ2  SQ3  DL1  DL2  DL3  DOB  \n",
       "Index                ...                                                     \n",
       "0        NaN    NaN  ...  NaN  NaN   NaN  NaN  NaN  NaN  NaN  NaN  NaN  NaN  \n",
       "1        NaN    NaN  ...  NaN  NaN   NaN  NaN  NaN  NaN  NaN  NaN  NaN  NaN  \n",
       "2        NaN    NaN  ...  NaN  NaN   NaN  NaN  NaN  NaN  NaN  NaN  NaN  NaN  \n",
       "3        NaN    NaN  ...  NaN  NaN   NaN  NaN  NaN  NaN  NaN  NaN  NaN  NaN  \n",
       "4        NaN    NaN  ...  NaN  NaN   NaN  NaN  NaN  NaN  NaN  NaN  NaN  NaN  \n",
       "\n",
       "[5 rows x 22 columns]"
      ]
     },
     "execution_count": 4,
     "metadata": {},
     "output_type": "execute_result"
    }
   ],
   "source": [
    "#Inspect data\n",
    "df.head()"
   ]
  },
  {
   "cell_type": "markdown",
   "metadata": {},
   "source": [
    "### Goals:\n",
    "- Homogenize column values\n",
    "- Fix data types\n",
    "- Change no-lifts to minus (rather than x suffix)"
   ]
  },
  {
   "cell_type": "markdown",
   "metadata": {},
   "source": [
    "##### Sex column"
   ]
  },
  {
   "cell_type": "code",
   "execution_count": 5,
   "metadata": {},
   "outputs": [
    {
     "data": {
      "text/plain": [
       "M           15488\n",
       "F            6969\n",
       "M-O            63\n",
       "M-J            43\n",
       "m              42\n",
       "F-O            18\n",
       "F-J            17\n",
       "M-M1           16\n",
       "f              16\n",
       "M - Open       12\n",
       "M-M3           11\n",
       "M-SJ           11\n",
       "F-M1           11\n",
       "F - M1          7\n",
       "F - Open        6\n",
       "M - O           6\n",
       "M-M2            6\n",
       "M-Sub           5\n",
       "W               4\n",
       "M - M2          3\n",
       "F - M2          2\n",
       "M-BL            2\n",
       "F-SJ            2\n",
       "F-M3            2\n",
       "F-M2            1\n",
       "M - M1          1\n",
       "M - U18         1\n",
       "F-M4            1\n",
       "M - SJ          1\n",
       "M-Jnr           1\n",
       "Name: Sex, dtype: int64"
      ]
     },
     "execution_count": 5,
     "metadata": {},
     "output_type": "execute_result"
    }
   ],
   "source": [
    "#Inspect\n",
    "df.Sex.value_counts()"
   ]
  },
  {
   "cell_type": "code",
   "execution_count": 6,
   "metadata": {},
   "outputs": [],
   "source": [
    "#Fix\n",
    "def fix_sex(df):\n",
    "    df.Sex = df.Sex.replace({'m': 'M', 'f': 'F', 'W': 'F'})\n",
    "    df.Sex = df.Sex.str.replace(' ','')\n",
    "    df[df.Sex.str.contains('-')].Division.isnull().all() #All rows with div info in sex column have nulls in div column\n",
    "    df.Division.fillna(pd.DataFrame(df.Sex.str.split('-').to_list(), columns = ['Sex', 'Division'])['Division'], inplace = True)\n",
    "    df.Sex = pd.DataFrame(df.Sex.str.split('-').to_list(), columns = ['Sex', 'Division'])['Sex']\n",
    "    return df"
   ]
  },
  {
   "cell_type": "markdown",
   "metadata": {},
   "source": [
    "##### Class column"
   ]
  },
  {
   "cell_type": "code",
   "execution_count": 8,
   "metadata": {},
   "outputs": [
    {
     "data": {
      "text/plain": [
       "90kg         12\n",
       "75kg          9\n",
       "82.5kg        8\n",
       "67.5kg        7\n",
       "100kg         6\n",
       "125kg         6\n",
       "60kg          4\n",
       "90+kg         3\n",
       "125x          3\n",
       "125.00 +      2\n",
       "82.5 - SJ     2\n",
       "125 +         2\n",
       "56kg          2\n",
       "110kg         2\n",
       "125+ - O      1\n",
       "67.5 - M1     1\n",
       "110 - M2      1\n",
       "90+ - J       1\n",
       "90 - M3       1\n",
       "75 - SJ       1\n",
       "82.5 - J      1\n",
       "100 - O       1\n",
       "110 - SJ      1\n",
       "82.5 - O      1\n",
       "125 - O       1\n",
       "56 - M2       1\n",
       "67.5 - O      1\n",
       "100 - M2      1\n",
       "Name: Class, dtype: int64"
      ]
     },
     "execution_count": 8,
     "metadata": {},
     "output_type": "execute_result"
    }
   ],
   "source": [
    "#Inspect\n",
    "df[~df.Class.fillna('').str.match(r'^-?\\d+(\\.\\d+)?[+]?$')].Class.value_counts() #Possibly bad values\n",
    "#df[df.Class.fillna('').str.match(r'^-?\\d+(\\.\\d+)?[+]?$')].Class.value_counts() #Okay values\n",
    "#df[df.Class.fillna('').str.match(r'^-?\\d+(\\.\\d+)?[+]?$')].Class.value_counts().plot(kind='bar') #Histogram of okay values"
   ]
  },
  {
   "cell_type": "code",
   "execution_count": 9,
   "metadata": {},
   "outputs": [],
   "source": [
    "#Fix\n",
    "def fix_class(df):\n",
    "    df.Class = df.Class.str.replace('kg', '')\n",
    "    df.Class = df.Class.str.replace('x', '')\n",
    "    df.Class = df.Class.str.replace(' ', '')\n",
    "    df[df.Class.fillna('').str.contains('-')].Division.isnull().all() #All rows with div info in class column have nulls in div column\n",
    "    df.Division.fillna(pd.DataFrame(df.Class.fillna('').str.split('-').to_list(), columns = ['Class', 'Division'])['Division'], inplace = True)\n",
    "    df.Class = pd.DataFrame(df.Class.fillna('').str.split('-').to_list(), columns = ['Class', 'Division'])['Class']\n",
    "    df.Class.replace('', np.nan, inplace = True)\n",
    "    #Look up special case comp tables to check for errors\n",
    "    df.replace({'Class' : { '125.00+' : '125+', '66.9': '67.5', '55.9': '56', '62.5': '67.5', '67.6': '67.5', '75.5': '75'}}, inplace = True)\n",
    "    for i in [1338, 1556, 1558, 3446, 3473, 7510, 7528]:\n",
    "        temp = df.loc[i, 'BDW']\n",
    "        df.loc[i, 'BDW'] = df.loc[i, 'Class']\n",
    "        df.loc[i, 'Class'] = temp\n",
    "    return df"
   ]
  },
  {
   "cell_type": "markdown",
   "metadata": {},
   "source": [
    "##### DOB column"
   ]
  },
  {
   "cell_type": "code",
   "execution_count": 11,
   "metadata": {},
   "outputs": [
    {
     "data": {
      "text/plain": [
       "1993    942\n",
       "1992    813\n",
       "1994    811\n",
       "1995    772\n",
       "1991    626\n",
       "       ... \n",
       "2020      1\n",
       "SJ        1\n",
       "1933      1\n",
       "52        1\n",
       "48        1\n",
       "Name: DOB, Length: 160, dtype: int64"
      ]
     },
     "execution_count": 11,
     "metadata": {},
     "output_type": "execute_result"
    }
   ],
   "source": [
    "#Inspect\n",
    "df.DOB.value_counts()\n",
    "#set([k[0] for j, k in df[df.DOB.notnull()].iterrows() if any(substring in k[21] for substring in ['PNG', 'NRU', '????', 'DQ', '-', 'NAU', 'NZPF', 'TUV', '???', 'PRC', 'NZ', 'NIU'])])"
   ]
  },
  {
   "cell_type": "code",
   "execution_count": 12,
   "metadata": {
    "scrolled": true
   },
   "outputs": [],
   "source": [
    "#Fix\n",
    "def fix_dob(df):\n",
    "    #Division in DOB column\n",
    "    for i in [103, 109, 113, 114, 141, 142, 144, 146, 168, 177, 184, 214]:\n",
    "        df.loc[df.CompID == i, 'Division'] = df.loc[df.CompID == i, 'DOB']\n",
    "        df.loc[df.CompID == i, 'DOB'] = np.nan\n",
    "    #Words in DOB column\n",
    "    df.DOB.replace(['PNG', 'NRU', '????', 'DQ', '-', 'NAU', 'NZPF', 'TUV', '???', 'PRC', 'NZ', 'NIU'], np.nan, inplace = True)\n",
    "    df.DOB.replace('`987', 1987, inplace = True)\n",
    "    #Big numbers\n",
    "    df.DOB.replace('\\d{5}', np.nan, inplace = True, regex = True)\n",
    "    #Small numbers\n",
    "    df.replace({'DOB' : { '0' : np.nan, '1886': 1986, '1680': 1980, '995': 1995}}, inplace = True)\n",
    "    df.loc[17261, 'DOB'] = 2018-30; df.loc[12972, 'DOB'] = 2016-35; df.loc[12975, 'DOB'] = 2018-30; df.loc[18635, 'DOB'] = 2018-27\n",
    "    for i,j in zip([572, 574, 606, 612, 665, 939, 940], [2015, 2015, 2016, 2016, 2017, 2020, 2020]):\n",
    "        df.loc[df.CompID == i, 'DOB'] = j-df.loc[df.CompID == i, 'DOB']\n",
    "    #Too close to current year\n",
    "    df.replace({'DOB' : { 2014 : np.nan, 2016: np.nan, 2020: np.nan}}, inplace = True)\n",
    "    df.loc[12166, 'DOB'] = np.nan\n",
    "    return df"
   ]
  },
  {
   "cell_type": "markdown",
   "metadata": {},
   "source": [
    "##### Division column"
   ]
  },
  {
   "cell_type": "code",
   "execution_count": 14,
   "metadata": {},
   "outputs": [
    {
     "data": {
      "text/plain": [
       "{5, 10, 21, 30, 31, 48, 51, 53, 64, 66, 67, 70}"
      ]
     },
     "execution_count": 14,
     "metadata": {},
     "output_type": "execute_result"
    }
   ],
   "source": [
    "#Inspect\n",
    "#df.Division.value_counts()\n",
    "#Check rows with weird entries\n",
    "set([k[0] for j, k in df[df.Division.notnull()].iterrows() if any(substring in k[4] for substring in ['\"'])])"
   ]
  },
  {
   "cell_type": "code",
   "execution_count": 15,
   "metadata": {},
   "outputs": [],
   "source": [
    "#Fix\n",
    "def fix_division(df):\n",
    "    df.loc[df.CompID == 64, 'Division'] = df[df.CompID == 64].Division.str.replace('\"', 'Snr')\n",
    "    df.Division = df.Division.str.replace('\"', 'Open')\n",
    "    divsemdf = pd.read_csv(\"../../Data/Division_semantics.csv\", engine = 'python')\n",
    "    #Map words to semantic meaning\n",
    "    semdict = {tuple(divsemdf[divsemdf[col].notnull()][col]): col for col in divsemdf.columns}\n",
    "    semmap = {}\n",
    "    for k, v in semdict.items():\n",
    "        for key in k:\n",
    "            semmap[key] = v\n",
    "    #Change words\n",
    "    df.Division.replace(semmap, inplace = True)\n",
    "    df.Division.replace('Unknown', np.nan, inplace = True)\n",
    "    return df"
   ]
  },
  {
   "cell_type": "markdown",
   "metadata": {},
   "source": [
    "##### Wilks column"
   ]
  },
  {
   "cell_type": "code",
   "execution_count": 32,
   "metadata": {},
   "outputs": [
    {
     "data": {
      "text/plain": [
       "0          94\n",
       "406.8       7\n",
       "383.26      6\n",
       "412.04      6\n",
       "387.96      5\n",
       "           ..\n",
       "247.811     1\n",
       "393.12      1\n",
       "381.18      1\n",
       "124.55      1\n",
       "300.335     1\n",
       "Name: Wilks, Length: 16143, dtype: int64"
      ]
     },
     "execution_count": 32,
     "metadata": {},
     "output_type": "execute_result"
    }
   ],
   "source": [
    "#Inspect\n",
    "df.Wilks.value_counts()\n",
    "#df[~df.Wilks.fillna('').str.match(r'^-?\\d+(\\.\\d+)?[+]?$')].Wilks.value_counts()\n",
    "#df[df.Wilks.str.match('\\.$') == True] #Check none start with .\n",
    "#df[df.Wilks.str.match('^\\.') == True] #Check none end with ."
   ]
  },
  {
   "cell_type": "code",
   "execution_count": 92,
   "metadata": {},
   "outputs": [],
   "source": [
    "#Fix\n",
    "def fix_wilks(df):\n",
    "    df.Wilks.replace(['BMB', '-', 'out', 'x', 'Disq.', 'Disq', '?', 'DQ (fees)', 'withdrawn', 'DQ'], np.nan, inplace = True)\n",
    "    df.Wilks = df.Wilks.str.replace(',', '.', regex = False)\n",
    "    return df"
   ]
  },
  {
   "cell_type": "markdown",
   "metadata": {},
   "source": [
    "##### BDW column"
   ]
  },
  {
   "cell_type": "code",
   "execution_count": 98,
   "metadata": {},
   "outputs": [
    {
     "data": {
      "text/plain": [
       "Series([], Name: BDW, dtype: int64)"
      ]
     },
     "execution_count": 98,
     "metadata": {},
     "output_type": "execute_result"
    }
   ],
   "source": [
    "#Inspect\n",
    "#df.BDW.value_counts()\n",
    "df[~df.BDW.fillna('').str.match(r'^-?\\d+(\\.\\d+)?[+]?$')].BDW.value_counts()"
   ]
  },
  {
   "cell_type": "code",
   "execution_count": 96,
   "metadata": {},
   "outputs": [],
   "source": [
    "#Fix\n",
    "def fix_bdw(df):\n",
    "    df.BDW = df.BDW.str.replace(',', '.', regex = False)\n",
    "    df.BDW = df.BDW.str.replace('..', '.', regex = False)\n",
    "    df.BDW = df.BDW.str.replace('?', '', regex = False)\n",
    "    df.BDW.replace('BMB', np.nan, inplace = True)\n",
    "    return df"
   ]
  },
  {
   "cell_type": "markdown",
   "metadata": {},
   "source": [
    "##### Place column"
   ]
  },
  {
   "cell_type": "code",
   "execution_count": null,
   "metadata": {},
   "outputs": [],
   "source": [
    "#Inspect\n"
   ]
  },
  {
   "cell_type": "code",
   "execution_count": null,
   "metadata": {},
   "outputs": [],
   "source": [
    "#Fix\n"
   ]
  },
  {
   "cell_type": "markdown",
   "metadata": {},
   "source": [
    "### Execute"
   ]
  },
  {
   "cell_type": "code",
   "execution_count": 97,
   "metadata": {},
   "outputs": [],
   "source": [
    "#One function\n",
    "def fix_all(df):\n",
    "    df = fix_sex(df)\n",
    "    df = fix_class(df)\n",
    "    df = fix_dob(df)\n",
    "    df = fix_division(df)\n",
    "    df = fix_wilks(df)\n",
    "    df = fix_bdw(df)\n",
    "    return df\n",
    "df = fix_all(pd.read_csv(\"../../Data/Tidy_Full.csv\", index_col = 0))"
   ]
  },
  {
   "cell_type": "markdown",
   "metadata": {},
   "source": [
    "# Testing area"
   ]
  },
  {
   "cell_type": "code",
   "execution_count": 20,
   "metadata": {},
   "outputs": [
    {
     "name": "stderr",
     "output_type": "stream",
     "text": [
      "C:\\Users\\Joe\\anaconda3\\lib\\site-packages\\IPython\\core\\interactiveshell.py:3146: DtypeWarning: Columns (31,33,35,38) have mixed types.Specify dtype option on import or set low_memory=False.\n",
      "  has_raised = await self.run_ast_nodes(code_ast.body, cell_name,\n"
     ]
    }
   ],
   "source": [
    "#opdf = pd.read_csv(\"../../Data/openpowerlifting-2021-03-31-ab223798.csv\", index_col = 0)"
   ]
  },
  {
   "cell_type": "code",
   "execution_count": 71,
   "metadata": {},
   "outputs": [
    {
     "data": {
      "text/plain": [
       "Index(['CompID', 'Name', 'Sex', 'Class', 'Division', 'BestBP', 'Total',\n",
       "       'Place', 'BestSQ', 'BestDL', 'BDW', 'BP1', 'BP2', 'BP3', 'Wilks', 'SQ1',\n",
       "       'SQ2', 'SQ3', 'DL1', 'DL2', 'DL3', 'DOB'],\n",
       "      dtype='object')"
      ]
     },
     "execution_count": 71,
     "metadata": {},
     "output_type": "execute_result"
    }
   ],
   "source": [
    "df.columns"
   ]
  },
  {
   "cell_type": "code",
   "execution_count": null,
   "metadata": {},
   "outputs": [],
   "source": []
  }
 ],
 "metadata": {
  "kernelspec": {
   "display_name": "Python 3",
   "language": "python",
   "name": "python3"
  },
  "language_info": {
   "codemirror_mode": {
    "name": "ipython",
    "version": 3
   },
   "file_extension": ".py",
   "mimetype": "text/x-python",
   "name": "python",
   "nbconvert_exporter": "python",
   "pygments_lexer": "ipython3",
   "version": "3.8.5"
  }
 },
 "nbformat": 4,
 "nbformat_minor": 4
}
